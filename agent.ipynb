{
 "cells": [
  {
   "cell_type": "code",
   "execution_count": 4,
   "metadata": {},
   "outputs": [],
   "source": [
    "%load_ext autoreload\n",
    "%autoreload 2"
   ]
  },
  {
   "cell_type": "code",
   "execution_count": 1,
   "metadata": {},
   "outputs": [
    {
     "name": "stderr",
     "output_type": "stream",
     "text": [
      "2025-02-25 09:28:26,117 - vector_db - INFO - Search success\n",
      "2025-02-25 09:28:26,495 - vector_db - INFO - Reranking success\n"
     ]
    },
    {
     "name": "stdout",
     "output_type": "stream",
     "text": [
      "RerankResult(\n",
      "  model='bge-reranker-v2-m3',\n",
      "  data=[{\n",
      "    index=0,\n",
      "    score=0.84733725,\n",
      "    document={\n",
      "        brand='L.A. COLORS',\n",
      "        category_name='Lipstick',\n",
      "        currency='USD',\n",
      "        description=\"Indulge your lips in LA COLORS Moisturizing and Conditioning Cream Push Lipstick. Delivering intense, vibrant color payoff with a single swipe, this ultra-pigmented lipstick ensures your lips stand out with a stunning, eye-catching hue. The creamy &amp; smooth texture glides on smoothly, leaving your lips with a soft, creamy finish that feels comfortable and nourishing. Infused with moisturizing ingredients, this lipstick helps to hydrate and condition your lips, preventing dryness and flakiness for all-day comfort. Enjoy a glossy, high-shine look without any tacky or sticky residue, as the formula delivers a smooth, lightweight feel that won't feel heavy on your lips. These medium-to-full coverage lipsticks are made to be flattering on all skin tones while providing an intense color payoff in a buttery, creamy texture and high-shine finish. Each indulging shade is versatile and can be paired with your favorite L.A. COLORS lip liner.  How to Use:  • Starting at the center of the lips, apply lip color in a side-to-side motion to the upper and lower lips.• Re-apply as desired.\",\n",
      "        discount='$0',\n",
      "        final_price='$5.94',\n",
      "        id='218',\n",
      "        product_id=886368088.0,\n",
      "        product_name='L.A. Colors Long-lasting Moisture Cream Velvet Plush Lipstick, Exquisite',\n",
      "        rating=4.3,\n",
      "        root_category_name='Beauty'\n",
      "    }\n",
      "  },{\n",
      "    index=2,\n",
      "    score=0.38873404,\n",
      "    document={\n",
      "        brand='Revlon',\n",
      "        category_name='Lipstick',\n",
      "        currency='USD',\n",
      "        description='   Forget touch-ups—this colorful, longwear lipstick lasts up to 16 hours. Pigment stays vibrant without smudging, bleeding, or feathering throughout the day   With 99% of its ingredients being moisturizing (including vitamin E and chamomile extract)—the shiny top coat feels so good on lips, and it’s good for you!   Working from the center of your lips outward, swipe on lip color and let it set. Then slick on the glossy top coat for major moisture and shine! Reapply top coat during the day as needed   From vivid pinks and bold reds, to natural-looking nudes and browns, all 30 kiss-proof shades stays all day   Revlon has the high-quality, high-pigment, bold color you need to be yourself. Create any look—day to night, weekday to weekend—with our longwear ColorStay eyeshadows, eyeliners, matte or shiny lipsticks, and foundation  ',\n",
      "        discount='$0',\n",
      "        final_price='$9.47',\n",
      "        id='241',\n",
      "        product_id=11994938.0,\n",
      "        product_name='Revlon ColorStay Overtime Longwearing Gloss Lipstick with Vitamin E, 270 Relentless Raisin, 0.07 fl oz',\n",
      "        rating=4.3,\n",
      "        root_category_name='Beauty'\n",
      "    }\n",
      "  },{\n",
      "    index=1,\n",
      "    score=0.08479541,\n",
      "    document={\n",
      "        brand='Maybelline',\n",
      "        category_name='Maybelline Lip Makeup',\n",
      "        currency='USD',\n",
      "        description='Experience saturated lip color, sensuous balm care and polished lip shine from MaybellineColor Elixir by Color Sensational. The exclusive smoothing angora brush delivers a polished, even application and smoothing sensation to lips. The balm-infused formula, with pure color pigments, leaves lips feeling cushiony soft.',\n",
      "        discount='$1.53',\n",
      "        final_price='$11.19',\n",
      "        id='317',\n",
      "        product_id=33685485.0,\n",
      "        product_name='Maybelline Color Sensational Elixir Lip Lacquer, Caramel Infused',\n",
      "        rating=4.0,\n",
      "        root_category_name='Beauty'\n",
      "    }\n",
      "  }],\n",
      "  usage={'rerank_units': 1}\n",
      ")\n"
     ]
    }
   ],
   "source": [
    "from utils.vector_db import VectorDB, VectorDBConfig\n",
    "import os\n",
    "from dotenv import load_dotenv\n",
    "\n",
    "load_dotenv()\n",
    "config = VectorDBConfig(api_key=os.getenv('PINECONE_API_KEY'))\n",
    "vector_db = VectorDB(config)\n",
    "\n",
    "# Query example\n",
    "results = vector_db.get_product_recommendations(\"lipsticks\", reformat_results=False, run_reranking=True)\n",
    "print(results)"
   ]
  },
  {
   "cell_type": "code",
   "execution_count": 6,
   "metadata": {},
   "outputs": [
    {
     "name": "stdout",
     "output_type": "stream",
     "text": [
      "Order placed successfully with tracking id 3851848649446504755\n"
     ]
    }
   ],
   "source": [
    "import random\n",
    "\n",
    "def buy_product(product_id: int, quantity: int) -> str:\n",
    "    \"\"\"\n",
    "    Process a product purchase and generate a tracking ID for the order.\n",
    "\n",
    "    Args:\n",
    "        product_id (int): The unique identifier of the product to purchase\n",
    "        quantity (int): The number of items to purchase\n",
    "\n",
    "    Returns:\n",
    "        str: A confirmation message containing the tracking ID\n",
    "\n",
    "    Example:\n",
    "        >>> buy_product(886368088, 2)\n",
    "        'Order placed successfully with tracking id 8374627463847293847'\n",
    "    \"\"\"\n",
    "    # Generate a long tracking id (Python 3 int is unbounded, emulating a long type)\n",
    "    tracking_id = random.randint(10**18, 10**19 - 1)\n",
    "    return f\"Order placed successfully with tracking id {tracking_id}\"\n",
    "\n",
    "print(buy_product(886368088, 2))"
   ]
  },
  {
   "cell_type": "code",
   "execution_count": 7,
   "metadata": {},
   "outputs": [
    {
     "name": "stdout",
     "output_type": "stream",
     "text": [
      "{'properties': {'query_text': {'description': 'The query text for which the product recommendations are requested', 'title': 'query_text', 'type': 'string'}}, 'required': ['query_text'], 'title': 'Get_Product_Recommendations', 'type': 'object'}\n"
     ]
    }
   ],
   "source": [
    "from pydantic import BaseModel, Field\n",
    "\n",
    "class Get_Product_Recommendations(BaseModel):\n",
    "    query_text: str = Field(..., title=\"query_text\", description=\"The query text for which the product recommendations are requested\")\n",
    "\n",
    "class Buy_Product(BaseModel):\n",
    "    product_id: int = Field(..., title=\"product_id\", description=\"The unique Product ID of the product to purchase\")\n",
    "    quantity: int = Field(..., title=\"quantity\", description=\"The number of items to purchase\")\n",
    "\n",
    "# Get the JSON schema\n",
    "schema = Get_Product_Recommendations.model_json_schema()\n",
    "print(schema)\n"
   ]
  },
  {
   "cell_type": "code",
   "execution_count": 8,
   "metadata": {},
   "outputs": [],
   "source": [
    "from pydantic import BaseModel, Field, ConfigDict\n",
    "from typing import Any, Dict, Optional, Literal\n",
    "\n",
    "map_name_to_schema: Dict[str, Any] = {vector_db.get_product_recommendations.__name__: Get_Product_Recommendations}\n",
    "map_name_to_schema.update({buy_product.__name__: Buy_Product})\n",
    "map_name_to_func = {func.__name__: func for func in [vector_db.get_product_recommendations, buy_product]}"
   ]
  },
  {
   "cell_type": "code",
   "execution_count": 9,
   "metadata": {},
   "outputs": [],
   "source": [
    "class Tools:\n",
    "    def __init__(self):\n",
    "        self.map_name_to_schema = {}\n",
    "        self.map_name_to_func = {}\n",
    "        \n",
    "    def register(self, func, schema):\n",
    "        \"\"\"\n",
    "        Register a new tool with its schema.\n",
    "        \n",
    "        Args:\n",
    "            func: The function to register\n",
    "            schema: The pydantic model schema for the function\n",
    "        \"\"\"\n",
    "        self.map_name_to_schema[func.__name__] = schema\n",
    "        self.map_name_to_func[func.__name__] = func\n",
    "        \n",
    "    def get_schema(self, name):\n",
    "        \"\"\"Get schema by function name\"\"\"\n",
    "        return self.map_name_to_schema.get(name)\n",
    "        \n",
    "    def get_function(self, name):\n",
    "        \"\"\"Get function by name\"\"\"\n",
    "        return self.map_name_to_func.get(name)\n",
    "    \n",
    "tools = Tools()\n",
    "tools.register(vector_db.get_product_recommendations, Get_Product_Recommendations)\n",
    "tools.register(buy_product, Buy_Product)\n"
   ]
  },
  {
   "cell_type": "code",
   "execution_count": 5,
   "metadata": {},
   "outputs": [
    {
     "ename": "NameError",
     "evalue": "name 'tools' is not defined",
     "output_type": "error",
     "traceback": [
      "\u001b[1;31m---------------------------------------------------------------------------\u001b[0m",
      "\u001b[1;31mNameError\u001b[0m                                 Traceback (most recent call last)",
      "Cell \u001b[1;32mIn[5], line 13\u001b[0m\n\u001b[0;32m     10\u001b[0m   \u001b[38;5;66;03m# json_schema[\"function\"][\"name\"] = func.__name__\u001b[39;00m\n\u001b[0;32m     11\u001b[0m   \u001b[38;5;28;01mreturn\u001b[39;00m json_schema\n\u001b[1;32m---> 13\u001b[0m tool_schema \u001b[38;5;241m=\u001b[39m [generate_openai_schema(func) \u001b[38;5;28;01mfor\u001b[39;00m func \u001b[38;5;129;01min\u001b[39;00m \u001b[43mtools\u001b[49m\u001b[38;5;241m.\u001b[39mmap_name_to_func\u001b[38;5;241m.\u001b[39mvalues()]\n\u001b[0;32m     14\u001b[0m \u001b[38;5;28mprint\u001b[39m(json\u001b[38;5;241m.\u001b[39mdumps(tool_schema, indent\u001b[38;5;241m=\u001b[39m\u001b[38;5;241m2\u001b[39m))\n",
      "\u001b[1;31mNameError\u001b[0m: name 'tools' is not defined"
     ]
    }
   ],
   "source": [
    "from openai import pydantic_function_tool\n",
    "import inspect\n",
    "import json\n",
    "from pydantic import BaseModel, Field\n",
    "from enum import Enum\n",
    "def generate_openai_schema(func):\n",
    "  json_schema = pydantic_function_tool(map_name_to_schema[func.__name__])\n",
    "  # json_schema = map_name_to_schema[func.__name__].model_json_schema()\n",
    "  json_schema[\"description\"] = inspect.getdoc(func) or \"No description available.\"\n",
    "  # json_schema[\"function\"][\"name\"] = func.__name__\n",
    "  return json_schema\n",
    "\n",
    "tool_schema = [generate_openai_schema(func) for func in tools.map_name_to_func.values()]\n",
    "print(json.dumps(tool_schema, indent=2))"
   ]
  },
  {
   "cell_type": "code",
   "execution_count": null,
   "metadata": {},
   "outputs": [],
   "source": [
    "from openai import OpenAI, AzureOpenAI, pydantic_function_tool\n",
    "from pydantic import BaseModel, Field\n",
    "from dotenv import load_dotenv\n",
    "import os\n",
    "load_dotenv()\n",
    "client = OpenAI(\n",
    "    api_key = os.getenv('OPENAI_API_KEY')\n",
    ")\n",
    "system_prompt = \"\"\"You are a ReAct(Reasoning and Action Agent) who takes the user query, thinks and reasons about the action required to be taken and then call tools if needed, to answer the user query.\n",
    "\n",
    "###TASKS:\n",
    "1. PRODUCT RECOMMENDATION: You have to provide the potential customer with the list of products available based on the customer's query. Ensure that the final output is well-formatted, readable and is easily understandable. Ensure that the final response does not contain any information that is useless to the customer.\n",
    "2. GENERAL INFORMATION: Taks that don't require product information. Provide answers politely in such cases.\n",
    "###OUTPUT FORMAT: Always make sure that your final output is readable and is easily understandable.\"\"\"\n",
    "messages = [\n",
    "      {\"role\": \"system\", \"content\": system_prompt},\n",
    "     {\"role\": \"user\", \"content\": \"Give me the lipsticks with the highest discounts\"}]\n",
    "\n",
    "def call_llm(messages: Dict[str, Any]):\n",
    "  response = client.chat.completions.create(\n",
    "    model=\"gpt-4o\",\n",
    "    messages = messages,\n",
    "    tools=tools,\n",
    "    tool_choice=\"auto\",\n",
    "    temperature=0,\n",
    "    parallel_tool_calls=True\n",
    "  )\n",
    "  return response\n",
    "\n",
    "response_message = call_llm(messages).choices[0].message\n",
    "content = response_message.content\n",
    "tool_calls = response_message.tool_calls"
   ]
  },
  {
   "cell_type": "code",
   "execution_count": 62,
   "metadata": {},
   "outputs": [
    {
     "data": {
      "text/plain": [
       "[ChatCompletionMessageToolCall(id='call_N0oZTSxbUiB8XqyJ3OY9j1ou', function=Function(arguments='{\"query_text\":\"lipsticks with the highest discounts\"}', name='Get_Product_Recommendations'), type='function')]"
      ]
     },
     "execution_count": 62,
     "metadata": {},
     "output_type": "execute_result"
    }
   ],
   "source": [
    "tool_calls"
   ]
  },
  {
   "cell_type": "code",
   "execution_count": 56,
   "metadata": {},
   "outputs": [],
   "source": [
    "def call_function(name, args):\n",
    "   return map_name_to_func[name](**args)"
   ]
  },
  {
   "cell_type": "code",
   "execution_count": 57,
   "metadata": {},
   "outputs": [
    {
     "name": "stdout",
     "output_type": "stream",
     "text": [
      "### Model Response:\n",
      "\n",
      "```\n",
      "Hello! How can I assist you today?\n",
      "```\n"
     ]
    }
   ],
   "source": [
    "import json\n",
    "\n",
    "if content:\n",
    "    print(\"### Model Response:\\n\")\n",
    "    print(f\"```\\n{content}\\n```\")\n",
    "elif tool_calls:\n",
    "    for tool_call in tool_calls:\n",
    "        name = tool_call.function.name.lower()\n",
    "        args = json.loads(tool_call.function.arguments)\n",
    "        messages.append({\"role\": \"assistant\", \"tool_calls\": [tool_call.model_dump()]})\n",
    "        result = call_function(name, args)\n",
    "\n",
    "        print(\"### Tool Result:\\n\")\n",
    "        print(f\"```\\n{result}\\n```\")\n",
    "\n",
    "        messages.append({\n",
    "            \"role\": \"tool\",\n",
    "            \"tool_call_id\": tool_call.id,\n",
    "            \"content\": str(result)\n",
    "        })\n",
    "\n",
    "    response_message = call_llm(messages).choices[0].message\n",
    "    content = response_message.content\n",
    "\n",
    "    print(\"### After Tool Response:\\n\")\n",
    "    print(f\"```\\n{content}\\n```\")\n"
   ]
  },
  {
   "cell_type": "code",
   "execution_count": 1,
   "metadata": {},
   "outputs": [],
   "source": [
    "from agent import Agent\n",
    "agent = Agent()"
   ]
  },
  {
   "cell_type": "code",
   "execution_count": 7,
   "metadata": {},
   "outputs": [
    {
     "name": "stderr",
     "output_type": "stream",
     "text": [
      "2025-02-25 14:33:09,571 - agent - DEBUG - Loaded existing session:  e168ce7f-873a-4854-a514-9378cf0ee5a3\n",
      "2025-02-25 14:33:09,574 - agent - DEBUG - Processing user query: Buy 1 qty only of the lipstick with the highest discount\n",
      "2025-02-25 14:33:10,814 - agent - DEBUG - Tool called: buy_product with arguments: {'product_id': 33685485, 'quantity': 1}\n",
      "2025-02-25 14:33:10,815 - agent - DEBUG - Response from tool buy_product: Order with product_id: 33685485 of quantity: 1 has been added to the cart ✅\n",
      "2025-02-25 14:33:12,071 - agent - DEBUG - Response from LLM: Your order for 1 quantity of the **Maybelline Color Sensational Elixir Lip Lacquer, Caramel Infused** has been successfully added to the cart. If you need any further assistance, feel free to ask!\n",
      "2025-02-25 14:33:12,073 - agent - DEBUG - Generated response: Your order for 1 quantity of the **Maybelline Color Sensational Elixir Lip Lacquer, Caramel Infused** has been successfully added to the cart. If you need any further assistance, feel free to ask!\n"
     ]
    },
    {
     "name": "stdout",
     "output_type": "stream",
     "text": [
      "[{'role': 'system', 'content': \"You are a ReAct(Reasoning and Action Agent) who accepts the user query, thinks and reasons about the action required to be taken and then call tools if needed while adhering to the strict instructions provided, to answer the user query.\\nIf required you may also reason and decompose the main task into subtasks and then call the tools to perform the subtasks to provide the best possible answer.\\n\\n###TASKS:\\n1. PRODUCT RECOMMENDATION: You have to provide the potential customer with the list of products available based on the customer's query. Do not provide useless information like Product ID to the customer in the final output.\\n2. BUY PRODUCT: Given the product_id and the quantity of the product_id required, you can place an order for the product.\\n2. GENERAL INFORMATION: Taks that don't require product information. Provide answers politely in such cases.\\n\\n### INSTRUCTIONS:\\n1. Always ask the user for the quantity required, if you do not have adequate information.\\n2. Incase of any ambiguity, confusion or doubts, always ask the user politely but never ask for the Product ID.\\n2. Make sure that the final output is well-formatted, easily understandable and is factually correct based on the context given to you.\\n\\n### NOTE:\\n1. DO NOT HALLUCINATE. DO NOT ASSUME ANYTHING OR FORM YOUR OWN OPINIONS. STRICTLY FOLLOW THE INSTRUCTIONS. Failure to adhere to INSTRUCTIONS will result in PUNISHMENT.\\n2. Your performance and accuracy is important for my sales.\\n\"}, {'role': 'user', 'content': 'Buy 1 qty only'}, {'role': 'assistant', 'content': 'Could you please let me know which product you would like to purchase?'}, {'role': 'user', 'content': 'List out lipsticks'}, {'role': 'assistant', 'tool_calls': [{'id': 'call_NLBpC9fdtFufXMvFKzBNgXxx', 'function': {'arguments': '{\"query_text\":\"lipsticks\"}', 'name': 'Get_Product_Recommendations'}, 'type': 'function'}]}, {'role': 'tool', 'tool_call_id': 'call_NLBpC9fdtFufXMvFKzBNgXxx', 'content': \"Category: Beauty\\nBrand: L.A. COLORS\\nProduct ID: 886368088.0\\nProduct Name: L.A. Colors Long-lasting Moisture Cream Velvet Plush Lipstick, Exquisite\\nDescription: Indulge your lips in LA COLORS Moisturizing and Conditioning Cream Push Lipstick. Delivering intense, vibrant color payoff with a single swipe, this ultra-pigmented lipstick ensures your lips stand out with a stunning, eye-catching hue. The creamy &amp; smooth texture glides on smoothly, leaving your lips with a soft, creamy finish that feels comfortable and nourishing. Infused with moisturizing ingredients, this lipstick helps to hydrate and condition your lips, preventing dryness and flakiness for all-day comfort. Enjoy a glossy, high-shine look without any tacky or sticky residue, as the formula delivers a smooth, lightweight feel that won't feel heavy on your lips. These medium-to-full coverage lipsticks are made to be flattering on all skin tones while providing an intense color payoff in a buttery, creamy texture and high-shine finish. Each indulging shade is versatile and can be paired with your favorite L.A. COLORS lip liner.  How to Use:  • Starting at the center of the lips, apply lip color in a side-to-side motion to the upper and lower lips.• Re-apply as desired.\\nPrice: $5.94\\nRating: 4.3\\nDiscount: $0\\n\\n\\nCategory: Beauty\\nBrand: Revlon\\nProduct ID: 11994938.0\\nProduct Name: Revlon ColorStay Overtime Longwearing Gloss Lipstick with Vitamin E, 270 Relentless Raisin, 0.07 fl oz\\nDescription:    Forget touch-ups—this colorful, longwear lipstick lasts up to 16 hours. Pigment stays vibrant without smudging, bleeding, or feathering throughout the day   With 99% of its ingredients being moisturizing (including vitamin E and chamomile extract)—the shiny top coat feels so good on lips, and it’s good for you!   Working from the center of your lips outward, swipe on lip color and let it set. Then slick on the glossy top coat for major moisture and shine! Reapply top coat during the day as needed   From vivid pinks and bold reds, to natural-looking nudes and browns, all 30 kiss-proof shades stays all day   Revlon has the high-quality, high-pigment, bold color you need to be yourself. Create any look—day to night, weekday to weekend—with our longwear ColorStay eyeshadows, eyeliners, matte or shiny lipsticks, and foundation  \\nPrice: $9.47\\nRating: 4.3\\nDiscount: $0\\n\\n\\nCategory: Beauty\\nBrand: Maybelline\\nProduct ID: 33685485.0\\nProduct Name: Maybelline Color Sensational Elixir Lip Lacquer, Caramel Infused\\nDescription: Experience saturated lip color, sensuous balm care and polished lip shine from MaybellineColor Elixir by Color Sensational. The exclusive smoothing angora brush delivers a polished, even application and smoothing sensation to lips. The balm-infused formula, with pure color pigments, leaves lips feeling cushiony soft.\\nPrice: $11.19\\nRating: 4.0\\nDiscount: $1.53\\n\\n\\n\"}, {'role': 'assistant', 'content': 'Here are some lipsticks you can choose from:\\n\\n1. **L.A. Colors Long-lasting Moisture Cream Velvet Plush Lipstick, Exquisite**\\n   - **Price:** $5.94\\n   - **Rating:** 4.3\\n   - **Description:** Indulge your lips in LA COLORS Moisturizing and Conditioning Cream Push Lipstick. It delivers intense, vibrant color payoff with a creamy texture that glides on smoothly, leaving your lips with a soft, nourishing finish.\\n\\n2. **Revlon ColorStay Overtime Longwearing Gloss Lipstick with Vitamin E, 270 Relentless Raisin**\\n   - **Price:** $9.47\\n   - **Rating:** 4.3\\n   - **Description:** This colorful, longwear lipstick lasts up to 16 hours without smudging or bleeding. It includes moisturizing ingredients like vitamin E and chamomile extract, providing a shiny top coat for major moisture and shine.\\n\\n3. **Maybelline Color Sensational Elixir Lip Lacquer, Caramel Infused**\\n   - **Price:** $11.19\\n   - **Rating:** 4.0\\n   - **Description:** Experience saturated lip color with a balm-infused formula that leaves lips feeling cushiony soft. The exclusive smoothing brush ensures an even application.\\n\\nPlease let me know which lipstick you would like to purchase!'}, {'role': 'user', 'content': 'Buy 1 qty only of the lipstick with the highest discount'}, {'role': 'assistant', 'tool_calls': [{'id': 'call_YCTXWrrg6WenBx8VhfVV0f8E', 'function': {'arguments': '{\"product_id\":33685485,\"quantity\":1}', 'name': 'Buy_Product'}, 'type': 'function'}]}, {'role': 'tool', 'tool_call_id': 'call_YCTXWrrg6WenBx8VhfVV0f8E', 'content': 'Order with product_id: 33685485 of quantity: 1 has been added to the cart ✅'}, {'role': 'assistant', 'content': 'Your order for 1 quantity of the **Maybelline Color Sensational Elixir Lip Lacquer, Caramel Infused** has been successfully added to the cart. If you need any further assistance, feel free to ask!'}]\n"
     ]
    }
   ],
   "source": [
    "# user_query = \"Give me the price difference between Floor mats and cooling sheets!\"\n",
    "# user_query = \"I want 1 of each of the floor mat with the highest cost and the cooling sheet with the lowest cost!\"\n",
    "# user_query = \"Give me the list of lipsticks with the highest discounts!\"\n",
    "# user_query = \"Buy 1 qty of the lipstick with the highest discount\"\n",
    "user_query = \"List out lipsticks\"\n",
    "user_query = \"Buy 1 qty only of the lipstick with the highest discount\"\n",
    "session_id = \" e168ce7f-873a-4854-a514-9378cf0ee5a3\" #\"abc\"\n",
    "agent_response, session_id = agent.run(session_id=session_id, user_query=user_query)"
   ]
  },
  {
   "cell_type": "code",
   "execution_count": null,
   "metadata": {},
   "outputs": [],
   "source": [
    "# I want two quantities of the best rated product that is good for my skin!"
   ]
  },
  {
   "cell_type": "code",
   "execution_count": 9,
   "metadata": {},
   "outputs": [
    {
     "data": {
      "text/plain": [
       "'7f6d5d56-7db4-44ad-a504-117b7bfb9a65'"
      ]
     },
     "execution_count": 9,
     "metadata": {},
     "output_type": "execute_result"
    }
   ],
   "source": [
    "session_id"
   ]
  },
  {
   "cell_type": "code",
   "execution_count": 8,
   "metadata": {},
   "outputs": [
    {
     "data": {
      "text/markdown": [
       "Your order for 1 quantity of the **Maybelline Color Sensational Elixir Lip Lacquer, Caramel Infused** has been successfully added to the cart. If you need any further assistance, feel free to ask!"
      ],
      "text/plain": [
       "<IPython.core.display.Markdown object>"
      ]
     },
     "metadata": {},
     "output_type": "display_data"
    }
   ],
   "source": [
    "from IPython.display import display, Markdown, Latex\n",
    "display(Markdown(agent_response))"
   ]
  },
  {
   "cell_type": "code",
   "execution_count": null,
   "metadata": {},
   "outputs": [],
   "source": [
    "system_prompt = \"\"\"\n",
    "You are an intelligent query re-writer and a query descomposer that rewrites the user query based on the previous conversation to make the query more clear and concise. You can also decompose the query into smaller parts to understand the user's intent better.\n",
    "\n",
    "###TASKS:\n",
    "1. Query-Rewriting: Rewrite the user_query based on the previous conversation to make it more clear and precise.\n",
    "2. Query-Decomposition: Decompose the user_query into smaller parts to understand the user's intent better keeping in mind that they are useful when the queries are being used by the tools.\n",
    "\n",
    "### INSTRUCTIONS:\n",
    "- Note that you have two tools with you:\n",
    "a. Get_Product_Recommendations: This is a tool that provides product recommendations based on the user query.\n",
    "b. Buy_Product: This is a tool that processes a product purchase, given the product_id and quantity.\n",
    "\n",
    "### OUTPUT FORMAT:\n",
    "In each of the cases, the output should be a properly formatted **python list**.\n",
    "\n",
    "\n",
    "### EXAMPLES:\n",
    "1. Query-Decomposition:\n",
    "    - Input: \"I want two items of the best rated product for household cleaning!\"\n",
    "    -Reasoning: The user wants to buy two quantities of the best rated product for household cleaning, that consists of two smaller queries-\"G\" So I can decompose the Input as follows:\n",
    "    - Output: [\"best rated product\", 2]\"\"\"\n"
   ]
  },
  {
   "cell_type": "code",
   "execution_count": 2,
   "metadata": {},
   "outputs": [
    {
     "name": "stdout",
     "output_type": "stream",
     "text": [
      "Status Code: 502\n"
     ]
    },
    {
     "ename": "JSONDecodeError",
     "evalue": "Expecting value: line 1 column 1 (char 0)",
     "output_type": "error",
     "traceback": [
      "\u001b[1;31m---------------------------------------------------------------------------\u001b[0m",
      "\u001b[1;31mJSONDecodeError\u001b[0m                           Traceback (most recent call last)",
      "File \u001b[1;32me:\\Programs\\Pythonenv\\PyTorchenv\\Lib\\site-packages\\requests\\models.py:974\u001b[0m, in \u001b[0;36mResponse.json\u001b[1;34m(self, **kwargs)\u001b[0m\n\u001b[0;32m    973\u001b[0m \u001b[38;5;28;01mtry\u001b[39;00m:\n\u001b[1;32m--> 974\u001b[0m     \u001b[38;5;28;01mreturn\u001b[39;00m \u001b[43mcomplexjson\u001b[49m\u001b[38;5;241;43m.\u001b[39;49m\u001b[43mloads\u001b[49m\u001b[43m(\u001b[49m\u001b[38;5;28;43mself\u001b[39;49m\u001b[38;5;241;43m.\u001b[39;49m\u001b[43mtext\u001b[49m\u001b[43m,\u001b[49m\u001b[43m \u001b[49m\u001b[38;5;241;43m*\u001b[39;49m\u001b[38;5;241;43m*\u001b[39;49m\u001b[43mkwargs\u001b[49m\u001b[43m)\u001b[49m\n\u001b[0;32m    975\u001b[0m \u001b[38;5;28;01mexcept\u001b[39;00m JSONDecodeError \u001b[38;5;28;01mas\u001b[39;00m e:\n\u001b[0;32m    976\u001b[0m     \u001b[38;5;66;03m# Catch JSON-related errors and raise as requests.JSONDecodeError\u001b[39;00m\n\u001b[0;32m    977\u001b[0m     \u001b[38;5;66;03m# This aliases json.JSONDecodeError and simplejson.JSONDecodeError\u001b[39;00m\n",
      "File \u001b[1;32m~\\AppData\\Local\\Programs\\Python\\Python312\\Lib\\json\\__init__.py:346\u001b[0m, in \u001b[0;36mloads\u001b[1;34m(s, cls, object_hook, parse_float, parse_int, parse_constant, object_pairs_hook, **kw)\u001b[0m\n\u001b[0;32m    343\u001b[0m \u001b[38;5;28;01mif\u001b[39;00m (\u001b[38;5;28mcls\u001b[39m \u001b[38;5;129;01mis\u001b[39;00m \u001b[38;5;28;01mNone\u001b[39;00m \u001b[38;5;129;01mand\u001b[39;00m object_hook \u001b[38;5;129;01mis\u001b[39;00m \u001b[38;5;28;01mNone\u001b[39;00m \u001b[38;5;129;01mand\u001b[39;00m\n\u001b[0;32m    344\u001b[0m         parse_int \u001b[38;5;129;01mis\u001b[39;00m \u001b[38;5;28;01mNone\u001b[39;00m \u001b[38;5;129;01mand\u001b[39;00m parse_float \u001b[38;5;129;01mis\u001b[39;00m \u001b[38;5;28;01mNone\u001b[39;00m \u001b[38;5;129;01mand\u001b[39;00m\n\u001b[0;32m    345\u001b[0m         parse_constant \u001b[38;5;129;01mis\u001b[39;00m \u001b[38;5;28;01mNone\u001b[39;00m \u001b[38;5;129;01mand\u001b[39;00m object_pairs_hook \u001b[38;5;129;01mis\u001b[39;00m \u001b[38;5;28;01mNone\u001b[39;00m \u001b[38;5;129;01mand\u001b[39;00m \u001b[38;5;129;01mnot\u001b[39;00m kw):\n\u001b[1;32m--> 346\u001b[0m     \u001b[38;5;28;01mreturn\u001b[39;00m \u001b[43m_default_decoder\u001b[49m\u001b[38;5;241;43m.\u001b[39;49m\u001b[43mdecode\u001b[49m\u001b[43m(\u001b[49m\u001b[43ms\u001b[49m\u001b[43m)\u001b[49m\n\u001b[0;32m    347\u001b[0m \u001b[38;5;28;01mif\u001b[39;00m \u001b[38;5;28mcls\u001b[39m \u001b[38;5;129;01mis\u001b[39;00m \u001b[38;5;28;01mNone\u001b[39;00m:\n",
      "File \u001b[1;32m~\\AppData\\Local\\Programs\\Python\\Python312\\Lib\\json\\decoder.py:338\u001b[0m, in \u001b[0;36mJSONDecoder.decode\u001b[1;34m(self, s, _w)\u001b[0m\n\u001b[0;32m    334\u001b[0m \u001b[38;5;250m\u001b[39m\u001b[38;5;124;03m\"\"\"Return the Python representation of ``s`` (a ``str`` instance\u001b[39;00m\n\u001b[0;32m    335\u001b[0m \u001b[38;5;124;03mcontaining a JSON document).\u001b[39;00m\n\u001b[0;32m    336\u001b[0m \n\u001b[0;32m    337\u001b[0m \u001b[38;5;124;03m\"\"\"\u001b[39;00m\n\u001b[1;32m--> 338\u001b[0m obj, end \u001b[38;5;241m=\u001b[39m \u001b[38;5;28;43mself\u001b[39;49m\u001b[38;5;241;43m.\u001b[39;49m\u001b[43mraw_decode\u001b[49m\u001b[43m(\u001b[49m\u001b[43ms\u001b[49m\u001b[43m,\u001b[49m\u001b[43m \u001b[49m\u001b[43midx\u001b[49m\u001b[38;5;241;43m=\u001b[39;49m\u001b[43m_w\u001b[49m\u001b[43m(\u001b[49m\u001b[43ms\u001b[49m\u001b[43m,\u001b[49m\u001b[43m \u001b[49m\u001b[38;5;241;43m0\u001b[39;49m\u001b[43m)\u001b[49m\u001b[38;5;241;43m.\u001b[39;49m\u001b[43mend\u001b[49m\u001b[43m(\u001b[49m\u001b[43m)\u001b[49m\u001b[43m)\u001b[49m\n\u001b[0;32m    339\u001b[0m end \u001b[38;5;241m=\u001b[39m _w(s, end)\u001b[38;5;241m.\u001b[39mend()\n",
      "File \u001b[1;32m~\\AppData\\Local\\Programs\\Python\\Python312\\Lib\\json\\decoder.py:356\u001b[0m, in \u001b[0;36mJSONDecoder.raw_decode\u001b[1;34m(self, s, idx)\u001b[0m\n\u001b[0;32m    355\u001b[0m \u001b[38;5;28;01mexcept\u001b[39;00m \u001b[38;5;167;01mStopIteration\u001b[39;00m \u001b[38;5;28;01mas\u001b[39;00m err:\n\u001b[1;32m--> 356\u001b[0m     \u001b[38;5;28;01mraise\u001b[39;00m JSONDecodeError(\u001b[38;5;124m\"\u001b[39m\u001b[38;5;124mExpecting value\u001b[39m\u001b[38;5;124m\"\u001b[39m, s, err\u001b[38;5;241m.\u001b[39mvalue) \u001b[38;5;28;01mfrom\u001b[39;00m\u001b[38;5;250m \u001b[39m\u001b[38;5;28;01mNone\u001b[39;00m\n\u001b[0;32m    357\u001b[0m \u001b[38;5;28;01mreturn\u001b[39;00m obj, end\n",
      "\u001b[1;31mJSONDecodeError\u001b[0m: Expecting value: line 1 column 1 (char 0)",
      "\nDuring handling of the above exception, another exception occurred:\n",
      "\u001b[1;31mJSONDecodeError\u001b[0m                           Traceback (most recent call last)",
      "Cell \u001b[1;32mIn[2], line 19\u001b[0m\n\u001b[0;32m     17\u001b[0m \u001b[38;5;28mprint\u001b[39m(\u001b[38;5;124m\"\u001b[39m\u001b[38;5;124mStatus Code:\u001b[39m\u001b[38;5;124m\"\u001b[39m, response\u001b[38;5;241m.\u001b[39mstatus_code)\n\u001b[0;32m     18\u001b[0m \u001b[38;5;66;03m# print(\"Response:\", response.json())\u001b[39;00m\n\u001b[1;32m---> 19\u001b[0m agent_response \u001b[38;5;241m=\u001b[39m \u001b[43mresponse\u001b[49m\u001b[38;5;241;43m.\u001b[39;49m\u001b[43mjson\u001b[49m\u001b[43m(\u001b[49m\u001b[43m)\u001b[49m[\u001b[38;5;124m'\u001b[39m\u001b[38;5;124mresponse\u001b[39m\u001b[38;5;124m'\u001b[39m]\n\u001b[0;32m     20\u001b[0m \u001b[38;5;28;01mfrom\u001b[39;00m\u001b[38;5;250m \u001b[39m\u001b[38;5;21;01mIPython\u001b[39;00m\u001b[38;5;21;01m.\u001b[39;00m\u001b[38;5;21;01mdisplay\u001b[39;00m\u001b[38;5;250m \u001b[39m\u001b[38;5;28;01mimport\u001b[39;00m display, Markdown, Latex\n\u001b[0;32m     21\u001b[0m display(Markdown(agent_response))\n",
      "File \u001b[1;32me:\\Programs\\Pythonenv\\PyTorchenv\\Lib\\site-packages\\requests\\models.py:978\u001b[0m, in \u001b[0;36mResponse.json\u001b[1;34m(self, **kwargs)\u001b[0m\n\u001b[0;32m    974\u001b[0m     \u001b[38;5;28;01mreturn\u001b[39;00m complexjson\u001b[38;5;241m.\u001b[39mloads(\u001b[38;5;28mself\u001b[39m\u001b[38;5;241m.\u001b[39mtext, \u001b[38;5;241m*\u001b[39m\u001b[38;5;241m*\u001b[39mkwargs)\n\u001b[0;32m    975\u001b[0m \u001b[38;5;28;01mexcept\u001b[39;00m JSONDecodeError \u001b[38;5;28;01mas\u001b[39;00m e:\n\u001b[0;32m    976\u001b[0m     \u001b[38;5;66;03m# Catch JSON-related errors and raise as requests.JSONDecodeError\u001b[39;00m\n\u001b[0;32m    977\u001b[0m     \u001b[38;5;66;03m# This aliases json.JSONDecodeError and simplejson.JSONDecodeError\u001b[39;00m\n\u001b[1;32m--> 978\u001b[0m     \u001b[38;5;28;01mraise\u001b[39;00m RequestsJSONDecodeError(e\u001b[38;5;241m.\u001b[39mmsg, e\u001b[38;5;241m.\u001b[39mdoc, e\u001b[38;5;241m.\u001b[39mpos)\n",
      "\u001b[1;31mJSONDecodeError\u001b[0m: Expecting value: line 1 column 1 (char 0)"
     ]
    }
   ],
   "source": [
    "import requests\n",
    "import json\n",
    "\n",
    "# Lambda Function URL\n",
    "url = \"https://bbjrxvwdo6odnztdxezroknyqa0kakcz.lambda-url.ap-south-1.on.aws/\"\n",
    "\n",
    "# Request payload\n",
    "payload = {\n",
    "    \"user_query\": \"give me a list of lipsticks\"\n",
    "    # \"session_id\": \"abc123\"  # Optional: Can be None if you want a new session\n",
    "}\n",
    "\n",
    "# Sending a POST request\n",
    "response = requests.post(url, json=payload)\n",
    "\n",
    "# Print response\n",
    "print(\"Status Code:\", response.status_code)\n",
    "# print(\"Response:\", response.json())\n",
    "agent_response = response.json()['response']\n",
    "from IPython.display import display, Markdown, Latex\n",
    "display(Markdown(agent_response))\n"
   ]
  },
  {
   "cell_type": "code",
   "execution_count": 2,
   "metadata": {},
   "outputs": [
    {
     "data": {
      "text/plain": [
       "{'user_query': 'give me a list of lipsticks',\n",
       " 'response': \"Here are some lipsticks you might be interested in:\\n\\n1. **L.A. Colors Long-lasting Moisture Cream Velvet Plush Lipstick, Exquisite**\\n   - **Price:** $5.94\\n   - **Rating:** 4.3\\n   - **Description:** This ultra-pigmented lipstick delivers intense color payoff with a creamy texture that glides on smoothly. Infused with moisturizing ingredients, it hydrates and conditions your lips for all-day comfort.\\n\\n2. **Revlon ColorStay Overtime Longwearing Gloss Lipstick with Vitamin E, 270 Relentless Raisin**\\n   - **Price:** $9.47\\n   - **Rating:** 4.3\\n   - **Description:** Lasting up to 16 hours, this colorful lipstick stays vibrant without smudging or feathering. It features a shiny top coat for added moisture and shine, with 99% moisturizing ingredients.\\n\\n3. **Maybelline Color Sensational Elixir Lip Lacquer, Caramel Infused**\\n   - **Price:** $11.19\\n   - **Rating:** 4.0\\n   - **Description:** This lip lacquer offers saturated color, balm care, and polished shine. The exclusive smoothing brush ensures an even application, leaving lips feeling cushiony soft.\\n\\nIf you're interested in purchasing any of these lipsticks, please let me know the quantity you would like!\",\n",
       " 'tools_used': ['get_product_recommendations'],\n",
       " 'session_id': '147cf7da-d3c4-4112-8975-58ec0cfb41b2'}"
      ]
     },
     "execution_count": 2,
     "metadata": {},
     "output_type": "execute_result"
    }
   ],
   "source": [
    "response.json()"
   ]
  },
  {
   "cell_type": "code",
   "execution_count": 3,
   "metadata": {},
   "outputs": [
    {
     "name": "stderr",
     "output_type": "stream",
     "text": [
      "\u001b[2mUsing Python 3.12.8 environment at: E:\\Programs\\Pythonenv\\pytorchenv\u001b[0m\n",
      "\u001b[2mResolved \u001b[1m1 package\u001b[0m \u001b[2min 427ms\u001b[0m\u001b[0m\n",
      "\u001b[2mPrepared \u001b[1m1 package\u001b[0m \u001b[2min 26ms\u001b[0m\u001b[0m\n",
      "\u001b[1m\u001b[33mwarning\u001b[39m\u001b[0m\u001b[1m:\u001b[0m \u001b[1mFailed to hardlink files; falling back to full copy. This may lead to degraded performance.\n",
      "         If the cache and target directories are on different filesystems, hardlinking may not be supported.\n",
      "         If this is intentional, set `export UV_LINK_MODE=copy` or use `--link-mode=copy` to suppress this warning.\u001b[0m\n",
      "\u001b[2mInstalled \u001b[1m1 package\u001b[0m \u001b[2min 19ms\u001b[0m\u001b[0m\n",
      " \u001b[32m+\u001b[39m \u001b[1mpolyline\u001b[0m\u001b[2m==2.0.2\u001b[0m\n"
     ]
    }
   ],
   "source": [
    "!uv pip install polyline\n"
   ]
  },
  {
   "cell_type": "code",
   "execution_count": 6,
   "metadata": {},
   "outputs": [
    {
     "name": "stdout",
     "output_type": "stream",
     "text": [
      "192.0\n"
     ]
    },
    {
     "data": {
      "text/plain": [
       "{'type': 'function',\n",
       " 'function': {'name': 'CartData',\n",
       "  'strict': True,\n",
       "  'parameters': {'$defs': {'CartItem': {'properties': {'product_id': {'description': 'Unique identifier for the product',\n",
       "       'title': 'Product Id',\n",
       "       'type': 'integer'},\n",
       "      'quantity': {'description': 'Number of items purchased',\n",
       "       'exclusiveMinimum': 0,\n",
       "       'title': 'Quantity',\n",
       "       'type': 'integer'},\n",
       "      'product_price': {'description': 'Price per unit of the product',\n",
       "       'exclusiveMinimum': 0.0,\n",
       "       'title': 'Product Price',\n",
       "       'type': 'number'},\n",
       "      'discount': {'anyOf': [{'minimum': 0.0, 'type': 'number'},\n",
       "        {'type': 'null'}],\n",
       "       'default': 0.0,\n",
       "       'description': 'Discount on the product',\n",
       "       'title': 'Discount'}},\n",
       "     'required': ['product_id', 'quantity', 'product_price', 'discount'],\n",
       "     'title': 'CartItem',\n",
       "     'type': 'object',\n",
       "     'additionalProperties': False}},\n",
       "   'properties': {'cart_items': {'description': 'List of items in the cart',\n",
       "     'items': {'$ref': '#/$defs/CartItem'},\n",
       "     'title': 'Cart Items',\n",
       "     'type': 'array'},\n",
       "    'shipment_distance': {'description': 'Distance for shipment',\n",
       "     'minimum': 0.0,\n",
       "     'title': 'Shipment Distance',\n",
       "     'type': 'number'}},\n",
       "   'required': ['cart_items', 'shipment_distance'],\n",
       "   'title': 'CartData',\n",
       "   'type': 'object',\n",
       "   'additionalProperties': False}}}"
      ]
     },
     "execution_count": 6,
     "metadata": {},
     "output_type": "execute_result"
    }
   ],
   "source": [
    "from typing import List, Optional\n",
    "from pydantic import BaseModel, Field\n",
    "\n",
    "def checkout(product_id: int, quantity: int, price: float, discount: Optional[float] = 0.0) -> float:\n",
    "    \"\"\"Calculates the price of a single item after applying discount.\"\"\"\n",
    "    return quantity * (price - discount)\n",
    "\n",
    "class CartItem(BaseModel):\n",
    "    product_id: int = Field(..., description=\"Unique identifier for the product\")\n",
    "    quantity: int = Field(..., gt=0, description=\"Number of items purchased\")\n",
    "    product_price: float = Field(..., gt=0, description=\"Price per unit of the product\")\n",
    "    discount: Optional[float] = Field(0.0, ge=0, description=\"Discount on the product\")\n",
    "\n",
    "class CartData(BaseModel):\n",
    "    cart_items: List[CartItem] = Field(..., description=\"List of items in the cart\")\n",
    "    shipment_distance: float = Field(..., ge=0, description=\"Distance for shipment\")\n",
    "\n",
    "def calculate_total_price(data: CartData) -> float:\n",
    "    \"\"\"Calculates the total price of the items in the cart including shipment cost.\"\"\"\n",
    "    total_price = 0.0\n",
    "    \n",
    "    for item in data.cart_items:\n",
    "        total_price += checkout(item.product_id, item.quantity, item.product_price, item.discount)\n",
    "    \n",
    "    total_price += data.shipment_distance * 0.1\n",
    "    return total_price\n",
    "\n",
    "# Example Usage:\n",
    "cart_data = CartData(\n",
    "    cart_items=[\n",
    "        CartItem(product_id=1, quantity=2, product_price=50.0, discount=5.0),\n",
    "        CartItem(product_id=2, quantity=1, product_price=100.0)\n",
    "    ],\n",
    "    shipment_distance=20.0\n",
    ")\n",
    "\n",
    "print(calculate_total_price(cart_data))\n",
    "pydantic_function_tool(CartData)"
   ]
  },
  {
   "cell_type": "code",
   "execution_count": null,
   "metadata": {},
   "outputs": [],
   "source": []
  }
 ],
 "metadata": {
  "kernelspec": {
   "display_name": "PyTorchenv",
   "language": "python",
   "name": "python3"
  },
  "language_info": {
   "codemirror_mode": {
    "name": "ipython",
    "version": 3
   },
   "file_extension": ".py",
   "mimetype": "text/x-python",
   "name": "python",
   "nbconvert_exporter": "python",
   "pygments_lexer": "ipython3",
   "version": "3.12.8"
  }
 },
 "nbformat": 4,
 "nbformat_minor": 2
}
